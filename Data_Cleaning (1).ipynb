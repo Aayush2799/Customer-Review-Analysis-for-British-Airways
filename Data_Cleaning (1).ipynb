{
 "cells": [
  {
   "cell_type": "code",
   "execution_count": 1,
   "id": "7cc76715-1580-4e8d-885d-6c061a73bb46",
   "metadata": {},
   "outputs": [],
   "source": [
    "import pandas as pd\n",
    "import matplotlib.pyplot as plt\n",
    "import seaborn as sns\n",
    "import os\n",
    "import re"
   ]
  },
  {
   "cell_type": "code",
   "execution_count": 2,
   "id": "e4f75b40-503e-4a01-938a-fb75a5bb59cc",
   "metadata": {},
   "outputs": [],
   "source": [
    "cwd = os.getcwd()\n",
    "df = pd.read_csv(cwd +\"/BA_reviews.csv\", index_col = 0)"
   ]
  },
  {
   "cell_type": "code",
   "execution_count": 3,
   "id": "01721d31-23a7-4980-988f-4bd4766d846a",
   "metadata": {},
   "outputs": [
    {
     "data": {
      "text/html": [
       "<div>\n",
       "<style scoped>\n",
       "    .dataframe tbody tr th:only-of-type {\n",
       "        vertical-align: middle;\n",
       "    }\n",
       "\n",
       "    .dataframe tbody tr th {\n",
       "        vertical-align: top;\n",
       "    }\n",
       "\n",
       "    .dataframe thead th {\n",
       "        text-align: right;\n",
       "    }\n",
       "</style>\n",
       "<table border=\"1\" class=\"dataframe\">\n",
       "  <thead>\n",
       "    <tr style=\"text-align: right;\">\n",
       "      <th></th>\n",
       "      <th>reviews</th>\n",
       "      <th>stars</th>\n",
       "      <th>date</th>\n",
       "      <th>country</th>\n",
       "    </tr>\n",
       "  </thead>\n",
       "  <tbody>\n",
       "    <tr>\n",
       "      <th>0</th>\n",
       "      <td>✅ Trip Verified |   Horrible service from boar...</td>\n",
       "      <td>\\n\\t\\t\\t\\t\\t\\t\\t\\t\\t\\t\\t\\t5</td>\n",
       "      <td>22nd September 2024</td>\n",
       "      <td>Morocco</td>\n",
       "    </tr>\n",
       "    <tr>\n",
       "      <th>1</th>\n",
       "      <td>Not Verified |  My wife and I are very disappo...</td>\n",
       "      <td>1</td>\n",
       "      <td>13th September 2024</td>\n",
       "      <td>United States</td>\n",
       "    </tr>\n",
       "    <tr>\n",
       "      <th>2</th>\n",
       "      <td>Not Verified |  We flew BA between Heathrow an...</td>\n",
       "      <td>1</td>\n",
       "      <td>13th September 2024</td>\n",
       "      <td>Australia</td>\n",
       "    </tr>\n",
       "    <tr>\n",
       "      <th>3</th>\n",
       "      <td>Not Verified |  Absolutely disgusted with BA. ...</td>\n",
       "      <td>8</td>\n",
       "      <td>13th September 2024</td>\n",
       "      <td>United Kingdom</td>\n",
       "    </tr>\n",
       "    <tr>\n",
       "      <th>4</th>\n",
       "      <td>Not Verified | Took a trip to Nashville with m...</td>\n",
       "      <td>1</td>\n",
       "      <td>11th September 2024</td>\n",
       "      <td>United Kingdom</td>\n",
       "    </tr>\n",
       "  </tbody>\n",
       "</table>\n",
       "</div>"
      ],
      "text/plain": [
       "                                             reviews  \\\n",
       "0  ✅ Trip Verified |   Horrible service from boar...   \n",
       "1  Not Verified |  My wife and I are very disappo...   \n",
       "2  Not Verified |  We flew BA between Heathrow an...   \n",
       "3  Not Verified |  Absolutely disgusted with BA. ...   \n",
       "4  Not Verified | Took a trip to Nashville with m...   \n",
       "\n",
       "                         stars                 date         country  \n",
       "0  \\n\\t\\t\\t\\t\\t\\t\\t\\t\\t\\t\\t\\t5  22nd September 2024         Morocco  \n",
       "1                            1  13th September 2024   United States  \n",
       "2                            1  13th September 2024       Australia  \n",
       "3                            8  13th September 2024  United Kingdom  \n",
       "4                            1  11th September 2024  United Kingdom  "
      ]
     },
     "execution_count": 3,
     "metadata": {},
     "output_type": "execute_result"
    }
   ],
   "source": [
    "df.head()"
   ]
  },
  {
   "cell_type": "code",
   "execution_count": 4,
   "id": "c4350b8a-0745-4f71-b42f-05ba694f8e42",
   "metadata": {},
   "outputs": [],
   "source": [
    "df['verified'] = df.reviews.str.contains(\"Verified Trip\")"
   ]
  },
  {
   "cell_type": "code",
   "execution_count": 5,
   "id": "ff5b6b61-520e-4ae7-8ffb-f0389d50aa9c",
   "metadata": {},
   "outputs": [
    {
     "data": {
      "text/plain": [
       "0       False\n",
       "1       False\n",
       "2       False\n",
       "3       False\n",
       "4       False\n",
       "        ...  \n",
       "3495    False\n",
       "3496    False\n",
       "3497    False\n",
       "3498    False\n",
       "3499    False\n",
       "Name: verified, Length: 3500, dtype: bool"
      ]
     },
     "execution_count": 5,
     "metadata": {},
     "output_type": "execute_result"
    }
   ],
   "source": [
    "df['verified']"
   ]
  },
  {
   "cell_type": "code",
   "execution_count": 15,
   "id": "1751c469-fb6f-4988-b50c-c8a4c0c7d655",
   "metadata": {},
   "outputs": [
    {
     "name": "stderr",
     "output_type": "stream",
     "text": [
      "[nltk_data] Downloading package stopwords to\n",
      "[nltk_data]     /Users/aayushamrute/nltk_data...\n",
      "[nltk_data]   Package stopwords is already up-to-date!\n",
      "[nltk_data] Downloading package wordnet to\n",
      "[nltk_data]     /Users/aayushamrute/nltk_data...\n",
      "[nltk_data]   Package wordnet is already up-to-date!\n",
      "[nltk_data] Downloading package omw-1.4 to\n",
      "[nltk_data]     /Users/aayushamrute/nltk_data...\n"
     ]
    },
    {
     "data": {
      "text/plain": [
       "True"
      ]
     },
     "execution_count": 15,
     "metadata": {},
     "output_type": "execute_result"
    }
   ],
   "source": [
    "import nltk\n",
    "nltk.download('stopwords')\n",
    "nltk.download('wordnet')\n",
    "nltk.download('omw-1.4')"
   ]
  },
  {
   "cell_type": "code",
   "execution_count": 16,
   "id": "9ec4de01-555d-4acb-a452-cff533cfdb43",
   "metadata": {},
   "outputs": [],
   "source": [
    "# we will use nltk library for lemmatization of words\n",
    "\n",
    "from nltk.stem import WordNetLemmatizer\n",
    "from nltk.corpus import stopwords\n",
    "lemma = WordNetLemmatizer()\n",
    "\n",
    "reviews_data = df.reviews.str.strip(\"✅ Verified Trip\")\n",
    "\n",
    "corpus = []\n",
    "\n",
    "for rev in reviews_data:\n",
    "    rev = re.sub('[^a-zA-Z]',' ', rev)\n",
    "    rev = rev.lower()\n",
    "    rev = rev.split()\n",
    "    rev = [lemma.lemmatize(word) for word in rev if word not in set(stopwords.words(\"english\"))]\n",
    "    rev = \" \".join(rev)\n",
    "    corpus.append(rev)"
   ]
  },
  {
   "cell_type": "code",
   "execution_count": 17,
   "id": "849cc5b7-20a3-427d-9e6f-bcb7cba6204b",
   "metadata": {},
   "outputs": [],
   "source": [
    "df['corpus'] = corpus"
   ]
  },
  {
   "cell_type": "code",
   "execution_count": 18,
   "id": "f943a34e-2791-47dc-81a8-d5693d45209a",
   "metadata": {},
   "outputs": [
    {
     "data": {
      "text/html": [
       "<div>\n",
       "<style scoped>\n",
       "    .dataframe tbody tr th:only-of-type {\n",
       "        vertical-align: middle;\n",
       "    }\n",
       "\n",
       "    .dataframe tbody tr th {\n",
       "        vertical-align: top;\n",
       "    }\n",
       "\n",
       "    .dataframe thead th {\n",
       "        text-align: right;\n",
       "    }\n",
       "</style>\n",
       "<table border=\"1\" class=\"dataframe\">\n",
       "  <thead>\n",
       "    <tr style=\"text-align: right;\">\n",
       "      <th></th>\n",
       "      <th>reviews</th>\n",
       "      <th>stars</th>\n",
       "      <th>date</th>\n",
       "      <th>country</th>\n",
       "      <th>verified</th>\n",
       "      <th>corpus</th>\n",
       "    </tr>\n",
       "  </thead>\n",
       "  <tbody>\n",
       "    <tr>\n",
       "      <th>0</th>\n",
       "      <td>✅ Trip Verified |   Horrible service from boar...</td>\n",
       "      <td>\\n\\t\\t\\t\\t\\t\\t\\t\\t\\t\\t\\t\\t5</td>\n",
       "      <td>22nd September 2024</td>\n",
       "      <td>Morocco</td>\n",
       "      <td>False</td>\n",
       "      <td>horrible service boarding landing flew london ...</td>\n",
       "    </tr>\n",
       "    <tr>\n",
       "      <th>1</th>\n",
       "      <td>Not Verified |  My wife and I are very disappo...</td>\n",
       "      <td>1</td>\n",
       "      <td>13th September 2024</td>\n",
       "      <td>United States</td>\n",
       "      <td>False</td>\n",
       "      <td>verified wife disappointed flying british airw...</td>\n",
       "    </tr>\n",
       "    <tr>\n",
       "      <th>2</th>\n",
       "      <td>Not Verified |  We flew BA between Heathrow an...</td>\n",
       "      <td>1</td>\n",
       "      <td>13th September 2024</td>\n",
       "      <td>Australia</td>\n",
       "      <td>False</td>\n",
       "      <td>verified flew ba heathrow berlin one way conne...</td>\n",
       "    </tr>\n",
       "    <tr>\n",
       "      <th>3</th>\n",
       "      <td>Not Verified |  Absolutely disgusted with BA. ...</td>\n",
       "      <td>8</td>\n",
       "      <td>13th September 2024</td>\n",
       "      <td>United Kingdom</td>\n",
       "      <td>False</td>\n",
       "      <td>verified absolutely disgusted ba flight cancel...</td>\n",
       "    </tr>\n",
       "    <tr>\n",
       "      <th>4</th>\n",
       "      <td>Not Verified | Took a trip to Nashville with m...</td>\n",
       "      <td>1</td>\n",
       "      <td>11th September 2024</td>\n",
       "      <td>United Kingdom</td>\n",
       "      <td>False</td>\n",
       "      <td>verified took trip nashville wife leisure brea...</td>\n",
       "    </tr>\n",
       "  </tbody>\n",
       "</table>\n",
       "</div>"
      ],
      "text/plain": [
       "                                             reviews  \\\n",
       "0  ✅ Trip Verified |   Horrible service from boar...   \n",
       "1  Not Verified |  My wife and I are very disappo...   \n",
       "2  Not Verified |  We flew BA between Heathrow an...   \n",
       "3  Not Verified |  Absolutely disgusted with BA. ...   \n",
       "4  Not Verified | Took a trip to Nashville with m...   \n",
       "\n",
       "                         stars                 date         country  verified  \\\n",
       "0  \\n\\t\\t\\t\\t\\t\\t\\t\\t\\t\\t\\t\\t5  22nd September 2024         Morocco     False   \n",
       "1                            1  13th September 2024   United States     False   \n",
       "2                            1  13th September 2024       Australia     False   \n",
       "3                            8  13th September 2024  United Kingdom     False   \n",
       "4                            1  11th September 2024  United Kingdom     False   \n",
       "\n",
       "                                              corpus  \n",
       "0  horrible service boarding landing flew london ...  \n",
       "1  verified wife disappointed flying british airw...  \n",
       "2  verified flew ba heathrow berlin one way conne...  \n",
       "3  verified absolutely disgusted ba flight cancel...  \n",
       "4  verified took trip nashville wife leisure brea...  "
      ]
     },
     "execution_count": 18,
     "metadata": {},
     "output_type": "execute_result"
    }
   ],
   "source": [
    "df.head()"
   ]
  },
  {
   "cell_type": "code",
   "execution_count": 20,
   "id": "4e70c7a9-0800-4c13-85bb-db51b60126ca",
   "metadata": {},
   "outputs": [
    {
     "data": {
      "text/plain": [
       "reviews     object\n",
       "stars       object\n",
       "date        object\n",
       "country     object\n",
       "verified      bool\n",
       "corpus      object\n",
       "dtype: object"
      ]
     },
     "execution_count": 20,
     "metadata": {},
     "output_type": "execute_result"
    }
   ],
   "source": [
    "df.dtypes"
   ]
  },
  {
   "cell_type": "code",
   "execution_count": 21,
   "id": "6fd55fd6-6364-4aac-8c6f-a04e0df05f89",
   "metadata": {},
   "outputs": [],
   "source": [
    "# conver date to datetime format\n",
    "df.date = pd.to_datetime(df.date)"
   ]
  },
  {
   "cell_type": "code",
   "execution_count": 22,
   "id": "de96ae87-5510-4b1a-9ee0-8a06913c5410",
   "metadata": {},
   "outputs": [
    {
     "data": {
      "text/plain": [
       "0   2024-09-22\n",
       "1   2024-09-13\n",
       "2   2024-09-13\n",
       "3   2024-09-13\n",
       "4   2024-09-11\n",
       "Name: date, dtype: datetime64[ns]"
      ]
     },
     "execution_count": 22,
     "metadata": {},
     "output_type": "execute_result"
    }
   ],
   "source": [
    "df.date.head()"
   ]
  },
  {
   "cell_type": "code",
   "execution_count": 23,
   "id": "01082453-fb1a-4863-8111-e08a894ee421",
   "metadata": {},
   "outputs": [],
   "source": [
    "#checking whether there are any unique values or not\n",
    "\n",
    "df.stars = df.stars.str.strip(\"\\n\\t\\t\\t\\t\\t\\t\\t\\t\\t\\t\\t\\t\\t\")"
   ]
  },
  {
   "cell_type": "code",
   "execution_count": 24,
   "id": "9e0a7376-d7b7-466d-a055-4c4d380b72f3",
   "metadata": {},
   "outputs": [
    {
     "data": {
      "text/plain": [
       "1       870\n",
       "2       406\n",
       "3       399\n",
       "8       340\n",
       "10      284\n",
       "7       273\n",
       "9       270\n",
       "5       246\n",
       "4       236\n",
       "6       173\n",
       "None      3\n",
       "Name: stars, dtype: int64"
      ]
     },
     "execution_count": 24,
     "metadata": {},
     "output_type": "execute_result"
    }
   ],
   "source": [
    "df.stars.value_counts()"
   ]
  },
  {
   "cell_type": "code",
   "execution_count": 26,
   "id": "9181fb7b-8bdb-46db-8a20-0603b77046dc",
   "metadata": {},
   "outputs": [],
   "source": [
    "# we see there are 3 rows having none values in the ratings. We will drop them\n",
    "\n",
    "df.drop(df[df.stars == \"None\"].index, axis = 0, inplace=True)"
   ]
  },
  {
   "cell_type": "code",
   "execution_count": 27,
   "id": "226e09b5-2708-478a-a45c-06ff165ff630",
   "metadata": {},
   "outputs": [
    {
     "data": {
      "text/plain": [
       "array(['5', '1', '8', '4', '2', '9', '10', '3', '6', '7'], dtype=object)"
      ]
     },
     "execution_count": 27,
     "metadata": {},
     "output_type": "execute_result"
    }
   ],
   "source": [
    "df.stars.unique()"
   ]
  },
  {
   "cell_type": "code",
   "execution_count": 29,
   "id": "c9a0ac29-3d4c-45db-a1f3-1b14f542579b",
   "metadata": {},
   "outputs": [
    {
     "data": {
      "text/plain": [
       "reviews  stars  date   country  verified  corpus\n",
       "False    False  False  False    False     False     3496\n",
       "                       True     False     False        1\n",
       "dtype: int64"
      ]
     },
     "execution_count": 29,
     "metadata": {},
     "output_type": "execute_result"
    }
   ],
   "source": [
    "# now we will check if there are any null values or not\n",
    "\n",
    "df.isnull().value_counts()"
   ]
  },
  {
   "cell_type": "code",
   "execution_count": 30,
   "id": "228973c9-4c79-4842-82ee-f4f2000d344b",
   "metadata": {},
   "outputs": [
    {
     "data": {
      "text/plain": [
       "False    3496\n",
       "True        1\n",
       "Name: country, dtype: int64"
      ]
     },
     "execution_count": 30,
     "metadata": {},
     "output_type": "execute_result"
    }
   ],
   "source": [
    "df.country.isnull().value_counts()"
   ]
  },
  {
   "cell_type": "code",
   "execution_count": 31,
   "id": "505d027c-0221-41f4-a5b5-f36f447329cc",
   "metadata": {},
   "outputs": [],
   "source": [
    "df.drop(df[df.country.isnull() == True].index, axis=0, inplace=True)"
   ]
  },
  {
   "cell_type": "code",
   "execution_count": 32,
   "id": "3067612f-74f8-41a9-b46e-51699517479d",
   "metadata": {},
   "outputs": [
    {
     "data": {
      "text/plain": [
       "(3496, 6)"
      ]
     },
     "execution_count": 32,
     "metadata": {},
     "output_type": "execute_result"
    }
   ],
   "source": [
    "df.shape"
   ]
  },
  {
   "cell_type": "code",
   "execution_count": 33,
   "id": "ffc4f9f9-39df-402d-b75f-eaec3c483a1d",
   "metadata": {},
   "outputs": [
    {
     "data": {
      "text/html": [
       "<div>\n",
       "<style scoped>\n",
       "    .dataframe tbody tr th:only-of-type {\n",
       "        vertical-align: middle;\n",
       "    }\n",
       "\n",
       "    .dataframe tbody tr th {\n",
       "        vertical-align: top;\n",
       "    }\n",
       "\n",
       "    .dataframe thead th {\n",
       "        text-align: right;\n",
       "    }\n",
       "</style>\n",
       "<table border=\"1\" class=\"dataframe\">\n",
       "  <thead>\n",
       "    <tr style=\"text-align: right;\">\n",
       "      <th></th>\n",
       "      <th>reviews</th>\n",
       "      <th>stars</th>\n",
       "      <th>date</th>\n",
       "      <th>country</th>\n",
       "      <th>verified</th>\n",
       "      <th>corpus</th>\n",
       "    </tr>\n",
       "  </thead>\n",
       "  <tbody>\n",
       "    <tr>\n",
       "      <th>0</th>\n",
       "      <td>✅ Trip Verified |   Horrible service from boar...</td>\n",
       "      <td>5</td>\n",
       "      <td>2024-09-22</td>\n",
       "      <td>Morocco</td>\n",
       "      <td>False</td>\n",
       "      <td>horrible service boarding landing flew london ...</td>\n",
       "    </tr>\n",
       "    <tr>\n",
       "      <th>1</th>\n",
       "      <td>Not Verified |  My wife and I are very disappo...</td>\n",
       "      <td>1</td>\n",
       "      <td>2024-09-13</td>\n",
       "      <td>United States</td>\n",
       "      <td>False</td>\n",
       "      <td>verified wife disappointed flying british airw...</td>\n",
       "    </tr>\n",
       "    <tr>\n",
       "      <th>2</th>\n",
       "      <td>Not Verified |  We flew BA between Heathrow an...</td>\n",
       "      <td>1</td>\n",
       "      <td>2024-09-13</td>\n",
       "      <td>Australia</td>\n",
       "      <td>False</td>\n",
       "      <td>verified flew ba heathrow berlin one way conne...</td>\n",
       "    </tr>\n",
       "    <tr>\n",
       "      <th>3</th>\n",
       "      <td>Not Verified |  Absolutely disgusted with BA. ...</td>\n",
       "      <td>8</td>\n",
       "      <td>2024-09-13</td>\n",
       "      <td>United Kingdom</td>\n",
       "      <td>False</td>\n",
       "      <td>verified absolutely disgusted ba flight cancel...</td>\n",
       "    </tr>\n",
       "    <tr>\n",
       "      <th>4</th>\n",
       "      <td>Not Verified | Took a trip to Nashville with m...</td>\n",
       "      <td>1</td>\n",
       "      <td>2024-09-11</td>\n",
       "      <td>United Kingdom</td>\n",
       "      <td>False</td>\n",
       "      <td>verified took trip nashville wife leisure brea...</td>\n",
       "    </tr>\n",
       "    <tr>\n",
       "      <th>...</th>\n",
       "      <td>...</td>\n",
       "      <td>...</td>\n",
       "      <td>...</td>\n",
       "      <td>...</td>\n",
       "      <td>...</td>\n",
       "      <td>...</td>\n",
       "    </tr>\n",
       "    <tr>\n",
       "      <th>3491</th>\n",
       "      <td>Traveled with British Airways ORD-LHR last mon...</td>\n",
       "      <td>6</td>\n",
       "      <td>2014-10-28</td>\n",
       "      <td>United States</td>\n",
       "      <td>False</td>\n",
       "      <td>aveled british airway ord lhr last month world...</td>\n",
       "    </tr>\n",
       "    <tr>\n",
       "      <th>3492</th>\n",
       "      <td>Gatwick to Marrakech and back. Bag drop was fa...</td>\n",
       "      <td>9</td>\n",
       "      <td>2014-10-28</td>\n",
       "      <td>United Kingdom</td>\n",
       "      <td>False</td>\n",
       "      <td>gatwick marrakech back bag drop fast premium s...</td>\n",
       "    </tr>\n",
       "    <tr>\n",
       "      <th>3493</th>\n",
       "      <td>Flight BA1445 Edinburgh-London code share onto...</td>\n",
       "      <td>6</td>\n",
       "      <td>2014-10-28</td>\n",
       "      <td>Australia</td>\n",
       "      <td>False</td>\n",
       "      <td>flight ba edinburgh london code share onto lis...</td>\n",
       "    </tr>\n",
       "    <tr>\n",
       "      <th>3494</th>\n",
       "      <td>LHR-GRU B744 First time with BA my experience ...</td>\n",
       "      <td>9</td>\n",
       "      <td>2014-10-28</td>\n",
       "      <td>Denmark</td>\n",
       "      <td>False</td>\n",
       "      <td>lhr gru b first time ba experience great seat ...</td>\n",
       "    </tr>\n",
       "    <tr>\n",
       "      <th>3495</th>\n",
       "      <td>Travelled to Palma in new BA 'sardine' busines...</td>\n",
       "      <td>1</td>\n",
       "      <td>2014-10-28</td>\n",
       "      <td>United Kingdom</td>\n",
       "      <td>False</td>\n",
       "      <td>avelled palma new ba sardine business class un...</td>\n",
       "    </tr>\n",
       "  </tbody>\n",
       "</table>\n",
       "<p>3496 rows × 6 columns</p>\n",
       "</div>"
      ],
      "text/plain": [
       "                                                reviews stars       date  \\\n",
       "0     ✅ Trip Verified |   Horrible service from boar...     5 2024-09-22   \n",
       "1     Not Verified |  My wife and I are very disappo...     1 2024-09-13   \n",
       "2     Not Verified |  We flew BA between Heathrow an...     1 2024-09-13   \n",
       "3     Not Verified |  Absolutely disgusted with BA. ...     8 2024-09-13   \n",
       "4     Not Verified | Took a trip to Nashville with m...     1 2024-09-11   \n",
       "...                                                 ...   ...        ...   \n",
       "3491  Traveled with British Airways ORD-LHR last mon...     6 2014-10-28   \n",
       "3492  Gatwick to Marrakech and back. Bag drop was fa...     9 2014-10-28   \n",
       "3493  Flight BA1445 Edinburgh-London code share onto...     6 2014-10-28   \n",
       "3494  LHR-GRU B744 First time with BA my experience ...     9 2014-10-28   \n",
       "3495  Travelled to Palma in new BA 'sardine' busines...     1 2014-10-28   \n",
       "\n",
       "             country  verified  \\\n",
       "0            Morocco     False   \n",
       "1      United States     False   \n",
       "2          Australia     False   \n",
       "3     United Kingdom     False   \n",
       "4     United Kingdom     False   \n",
       "...              ...       ...   \n",
       "3491   United States     False   \n",
       "3492  United Kingdom     False   \n",
       "3493       Australia     False   \n",
       "3494         Denmark     False   \n",
       "3495  United Kingdom     False   \n",
       "\n",
       "                                                 corpus  \n",
       "0     horrible service boarding landing flew london ...  \n",
       "1     verified wife disappointed flying british airw...  \n",
       "2     verified flew ba heathrow berlin one way conne...  \n",
       "3     verified absolutely disgusted ba flight cancel...  \n",
       "4     verified took trip nashville wife leisure brea...  \n",
       "...                                                 ...  \n",
       "3491  aveled british airway ord lhr last month world...  \n",
       "3492  gatwick marrakech back bag drop fast premium s...  \n",
       "3493  flight ba edinburgh london code share onto lis...  \n",
       "3494  lhr gru b first time ba experience great seat ...  \n",
       "3495  avelled palma new ba sardine business class un...  \n",
       "\n",
       "[3496 rows x 6 columns]"
      ]
     },
     "execution_count": 33,
     "metadata": {},
     "output_type": "execute_result"
    }
   ],
   "source": [
    "df.reset_index(drop = True)"
   ]
  },
  {
   "cell_type": "code",
   "execution_count": 34,
   "id": "0da05c63-7ce8-4962-945a-1eaf712eadf3",
   "metadata": {},
   "outputs": [],
   "source": [
    "df.to_csv(cwd + \"/Cleaned_BA_reviews.csv\")"
   ]
  },
  {
   "cell_type": "code",
   "execution_count": null,
   "id": "1e1009b2-c736-4ddd-b475-555d0701636a",
   "metadata": {},
   "outputs": [],
   "source": []
  }
 ],
 "metadata": {
  "kernelspec": {
   "display_name": "Python 3 (ipykernel)",
   "language": "python",
   "name": "python3"
  },
  "language_info": {
   "codemirror_mode": {
    "name": "ipython",
    "version": 3
   },
   "file_extension": ".py",
   "mimetype": "text/x-python",
   "name": "python",
   "nbconvert_exporter": "python",
   "pygments_lexer": "ipython3",
   "version": "3.9.12"
  }
 },
 "nbformat": 4,
 "nbformat_minor": 5
}
